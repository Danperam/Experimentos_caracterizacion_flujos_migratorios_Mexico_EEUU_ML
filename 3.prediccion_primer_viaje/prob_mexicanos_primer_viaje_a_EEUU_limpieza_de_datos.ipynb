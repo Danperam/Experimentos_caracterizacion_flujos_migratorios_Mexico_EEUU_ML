{
 "cells": [
  {
   "cell_type": "markdown",
   "metadata": {},
   "source": [
    "## Experimento 3. \n",
    "## Predicción de realizar un primer viaje migratorio hacia Estados Unidos\n",
    "\n",
    "Selección y limpieza de datos a partir de la tabla <b>PERS</b>.\n",
    "\n",
    "<b>PERS</b> es un archivo a nivel persona que provee información demográfica general e información sobre migración doméstica, a Estados Unidos, y a Canadá.\n",
    "\n",
    "En este experimento se pretende obtener la probabilidad de realizar un primer viaje migratorio a Estados Unidos considerando la información contenida en el archivo <b>PERS</b>, calculando la probabilidad de realizar un primer viaje migratorio a partir del atributo <b>USYR1</b>, tomando el valor '8888' como <b>\"no realizó un primer viaje migratorio\"</b> y valores distintos a '8888' y '9999' como <b>\"realizó un viaje migratorio\"</b>.\n",
    "\n",
    "Así, la etiqueta de clase puede tomar dos valores posibles:<br>\n",
    ">1: Sí (Realizó primer viaje migratorio)<br>0: No (No realizó primer viaje migratorio)<br>\n",
    "\n",
    "Para todos los clasificadores utilizados, se tomará la clase 1 (Realizó primer viaje migratorio) como clase **Positive**.\n",
    "\n",
    "Se considera el cálculo de la probabilidad de realizar el primer viaje migratorio como el valor a obtener por los clasificadores utilizados, i.e. $P(\\text{class = 1 | x})$ que se puede leer como la probabilidad de que la persona realice su primer viaje migratorio dadas las variables en el dataset.\n",
    "\n",
    "Pata este experimento, se dividirá entre la clasificación entre hombres y mujeres, documentados e indocumentados siguiendo los resultados publicados por el MMP en: https://mmp.opr.princeton.edu/results/009firsttrippers-es.aspx\n",
    "\n",
    "<br>\n",
    "\n",
    "---"
   ]
  },
  {
   "cell_type": "markdown",
   "metadata": {},
   "source": [
    "Bibliotecas utilizadas"
   ]
  },
  {
   "cell_type": "code",
   "execution_count": 1,
   "metadata": {},
   "outputs": [],
   "source": [
    "import pandas as pd \n",
    "import numpy as np\n",
    "import matplotlib.pyplot as plt\n",
    "import os"
   ]
  },
  {
   "cell_type": "markdown",
   "metadata": {},
   "source": [
    "Rutas de acceso y almacenamiento de los archivos generados"
   ]
  },
  {
   "cell_type": "code",
   "execution_count": 2,
   "metadata": {},
   "outputs": [],
   "source": [
    "#Ruta para leer el archivo a procesar\n",
    "path_to_data = os.path.join('../'*3, 'Bases de datos', 'Princeton', 'Mexican Migration Project (MMP)', 'CSV', 'core_files')\n",
    "\n",
    "#Ruta para almacenar el dataset procesado\n",
    "path_to_store = os.path.join('..', 'datasets','regreso_ultimo_viaje')"
   ]
  },
  {
   "cell_type": "markdown",
   "metadata": {},
   "source": [
    "Tipos de dato para cada atributo en las tablas"
   ]
  },
  {
   "cell_type": "code",
   "execution_count": 3,
   "metadata": {},
   "outputs": [],
   "source": [
    "dtypes = {'country': 'category', 'commun': 'category', 'surveypl': 'category', 'surveyyr': 'category', 'hhnum': 'category', 'persnum': 'category', 'inform': 'category', \n",
    "          'hhmemshp': 'category', 'weight': 'float64', 'sex': 'category', 'relhead': 'category', 'yrborn': 'category', 'yrdead': 'category', 'age': 'float64', 'statebrn': 'category', \n",
    "          'placebrn': 'category', 'marstat': 'category', 'edyrs': 'float64', 'occ': 'category', 'hhincome': 'float64', 'ldowage': 'float64', '@by': 'category', 'height': 'float64', \n",
    "          'kgs': 'float64', 'smokes': 'category', 'smoked': 'category', 'smokeage': 'float64', 'health': 'category', 'healthly': 'category', 'healthnw': 'category', \n",
    "          'hyperten': 'category', 'sugar': 'category', 'heart': 'category', 'brain': 'category', 'lung': 'category', 'nerves': 'category', 'cancer': 'category', 'hypertyr': 'category', \n",
    "          'sugaryr': 'category', 'heartyr': 'category', 'brainyr': 'category', 'lungyr': 'category', 'nervesyr': 'category', 'canceryr': 'category', 'usborn': 'category', 'usyr1': 'category', \n",
    "          'usdur1': 'float64', 'usdoc1': 'category', 'usstate1': 'category', 'usplace1': 'category', 'usmar1': 'category', 'usocc1': 'category', 'uswage1': 'float64', 'usby1': 'category', \n",
    "          'usyrl': 'category', 'usdurl': 'float64', 'usdocl': 'category', 'usstatel': 'category', 'usplacel': 'category', 'usmarl': 'category', 'usoccl': 'category', 'uswagel': 'float64', \n",
    "          'usbyl': 'category', 'uscurtrp': 'category', 'ustrips': 'float64', 'usexp': 'float64', 'legyrapp': 'category', 'legyrrec': 'category', 'legspon': 'category', 'cityrapp': 'category', \n",
    "          'cityrrec': 'category', 'dacaapp': 'category', 'dacarec': 'category', 'ushealth': 'category', 'mxhealth': 'category', 'mxyr1': 'category', 'mxdur1': 'float64', 'mxdoc1': 'category', \n",
    "          'mxstate1': 'category', 'mxplace1': 'category', 'mxmar1': 'category', 'mxocc1': 'category', 'mxwage1': 'float64', 'mxby1': 'category', 'mxyrl': 'category', 'mxdurl': 'float64', \n",
    "          'mxdocl': 'category', 'mxstatel': 'category', 'mxplacel': 'category', 'mxmarl': 'category', 'mxoccl': 'category', 'mxwagel': 'float64', 'mxbyl': 'category', 'mxcurtrp': 'category',\n",
    "            'mxtrips': 'float64', 'mxexp': 'float64', 'cnyr1': 'category', 'cndur1': 'float64', 'cndoc1': 'category', 'cnstate1': 'category', 'cnplace1': 'category', 'cnfarm1': 'category', \n",
    "            'cnmar1': 'category', 'cnocc1': 'category', 'cnwage1': 'float64', 'cnby1': 'category', 'cnyrl': 'category', 'cndurl': 'float64', 'cndocl': 'category', 'cnstatel': 'category', \n",
    "            'cnplacel': 'category', 'cnfarml': 'category', 'cnmarl': 'category', 'cnoccl': 'category', 'cnwagel': 'float64', 'cnbyl': 'category', 'cncurtrp': 'category', 'cntrips': 'float64', \n",
    "            'doyr1': 'category', 'dodur1': 'float64', 'dostate1': 'category', 'doplace1': 'category', 'doocc1': 'category', 'doyrl': 'category', 'dodurl': 'float64', 'dostatel': 'category', \n",
    "            'doplacel': 'category', 'dooccl': 'category', 'dowagel': 'category', 'dobyl': 'category', 'docurtrp': 'category', 'dotrips': 'float64'}"
   ]
  },
  {
   "cell_type": "markdown",
   "metadata": {},
   "source": [
    "Lectura de archivos"
   ]
  },
  {
   "cell_type": "code",
   "execution_count": 4,
   "metadata": {},
   "outputs": [],
   "source": [
    "pers_data_file = os.path.join(path_to_data, 'pers174.csv')\n",
    "\n",
    "#Lectura de los archivos\n",
    "pers = pd.read_csv(pers_data_file, na_values=['9999',' '],dtype=dtypes)"
   ]
  },
  {
   "cell_type": "markdown",
   "metadata": {},
   "source": [
    "Separación de atributos por tipo de viaje (Doméstico en México, a EEUU o a Canadá)"
   ]
  },
  {
   "cell_type": "code",
   "execution_count": 5,
   "metadata": {},
   "outputs": [],
   "source": [
    "numeric_atts = ['weight', 'age', 'hhincome','ldowage','height','kgs','smokeage','usdur1','usdurl','uswage1','uswagel','ustrips','usexp','mxdur1','mxdurl','mxwage1','mxwagel',\n",
    "                  'mxtrips','mxexp','cndur1','cndurl','cnwage1','cnwagel','cntrips','dodur1','dodurl','dotrips','edyrs']\n",
    "\n",
    "categorical_atts = [i for i in pers.columns.to_list() if i not in numeric_atts]\n",
    "\n",
    "canada_atts = ['cntrips','cnyr1','cnyrl','cndur1','cndurl','cndoc1','cndocl','cnstate1','cnstatel','cnplace1','cnplacel','cnfarm1','cnfarml','cnmar1','cnmarl','cnocc1','cnoccl','cnwage1','cnwagel',\n",
    "               'cnby1','cnbyl','cncurtrp']\n",
    "\n",
    "domestic_atts = ['doyr1','doyrl','dodur1','dodurl','dostate1','dostatel','doplace1','doplacel','doocc1','dooccl','dowagel','dobyl','docurtrp','dotrips']\n",
    "\n",
    "return_mx_atts = ['mxyr1', 'mxdur1', 'mxdoc1', 'mxstate1', 'mxplace1', 'mxmar1', 'mxocc1', 'mxwage1', 'mxby1', 'mxyrl', 'mxdurl', 'mxdocl', 'mxstatel', 'mxplacel', 'mxmarl', 'mxoccl',\n",
    "               'mxwagel', 'mxbyl', 'mxcurtrp', 'mxtrips', 'mxexp']\n",
    "\n",
    "categorical_us_atts = [i for i in categorical_atts if i not in canada_atts and i not in return_mx_atts]\n",
    "numeric_us_atts = [i for i in numeric_atts if i not in canada_atts and i not in return_mx_atts]"
   ]
  },
  {
   "cell_type": "markdown",
   "metadata": {},
   "source": [
    "Eliminación de atributo 'weight'. No es necesario para modelos causales"
   ]
  },
  {
   "cell_type": "code",
   "execution_count": 6,
   "metadata": {},
   "outputs": [],
   "source": [
    "pers.drop('weight', axis=1, inplace=True)"
   ]
  },
  {
   "cell_type": "markdown",
   "metadata": {},
   "source": [
    "Eliminar atributos correspodientes a información de identificación (referentes a la realización de la encuesta)\n",
    "\n",
    "Posiblemente estén introduciendo ruido"
   ]
  },
  {
   "cell_type": "code",
   "execution_count": 7,
   "metadata": {},
   "outputs": [],
   "source": [
    "pers.drop(['country','surveypl','surveyyr','hhnum','persnum', 'inform','hhmemshp','yrdead'], axis=1, inplace=True)"
   ]
  },
  {
   "cell_type": "markdown",
   "metadata": {},
   "source": [
    "Eliminar atributos referentes a viajes migratorios domésticos dentro de México y hacia Canadá"
   ]
  },
  {
   "cell_type": "code",
   "execution_count": 8,
   "metadata": {},
   "outputs": [
    {
     "name": "stdout",
     "output_type": "stream",
     "text": [
      "Número de instancias: 179321, número de atributos: 66\n"
     ]
    }
   ],
   "source": [
    "pers.drop(return_mx_atts, axis=1, inplace=True)\n",
    "pers.drop(canada_atts, axis=1, inplace=True)\n",
    "pers.drop(domestic_atts, axis=1, inplace=True)\n",
    "print(f'Número de instancias: {pers.shape[0]}, número de atributos: {pers.shape[1]}')"
   ]
  },
  {
   "cell_type": "markdown",
   "metadata": {},
   "source": [
    "Selección de personas NO nacidas en Estados Unidos (No aplica primer viaje migratorio a EE.UU.)"
   ]
  },
  {
   "cell_type": "code",
   "execution_count": 9,
   "metadata": {},
   "outputs": [
    {
     "name": "stdout",
     "output_type": "stream",
     "text": [
      "Número de instancias: 176218, número de atributos: 65\n"
     ]
    }
   ],
   "source": [
    "pers = pers[pers['usborn']=='2'] #Seleccionamos a los mexicanos NO nacidos en EEUU\n",
    "pers.drop('usborn', axis=1, inplace=True) #Eliminamos la columna usborn\n",
    "print(f'Número de instancias: {pers.shape[0]}, número de atributos: {pers.shape[1]}')"
   ]
  },
  {
   "cell_type": "markdown",
   "metadata": {},
   "source": [
    "Etiquetado de clases:\n",
    "\n",
    "    1: Realizó primer viaje migratorio, i.e. 'usyr1' != '8888'\n",
    "    0: No realizó primer viaje migratorio, i.e. 'usyr1' == '8888'"
   ]
  },
  {
   "cell_type": "code",
   "execution_count": 10,
   "metadata": {},
   "outputs": [
    {
     "name": "stdout",
     "output_type": "stream",
     "text": [
      "Número de instancias: 175874, número de atributos: 66\n"
     ]
    }
   ],
   "source": [
    "pers.dropna(subset=['usyr1'], inplace=True) #Eliminamos las instancias con valores faltantes en la columna usyr1\n",
    "targets = [0 if yr == '8888' else 1 for yr in pers['usyr1']]\n",
    "pers['target'] = targets\n",
    "print(f'Número de instancias: {pers.shape[0]}, número de atributos: {pers.shape[1]}')"
   ]
  },
  {
   "cell_type": "markdown",
   "metadata": {},
   "source": [
    "Fusión de atributos HHINCOME y LDOWAGE en solo LDOWAGE (HHINCOME fue reemplazado por LDOWAGE a partir de la comunidad 53)"
   ]
  },
  {
   "cell_type": "code",
   "execution_count": 11,
   "metadata": {},
   "outputs": [],
   "source": [
    "pers.loc[pers['ldowage'].isnull(),'ldowage'] = pers['hhincome']\n",
    "pers.drop('hhincome', axis=1, inplace=True)#Eliminamos la columna hhincome"
   ]
  },
  {
   "cell_type": "markdown",
   "metadata": {},
   "source": [
    "Eliminación de atributos que no corresponden a todas las comunidades encuestadas"
   ]
  },
  {
   "cell_type": "code",
   "execution_count": 12,
   "metadata": {},
   "outputs": [],
   "source": [
    "#Se eliminan los atributos que no corresponden a todas las comunidades encuestadas\n",
    "not_all_communities = ['height', 'kgs', 'smokes', 'smoked', 'smokeage', 'health', 'healthly', 'healthnw', 'hyperten', 'sugar', 'heart', 'brain', 'lung', 'nerves', 'cancer', 'hypertyr',\n",
    "                       'sugaryr', 'heartyr', 'brainyr', 'lungyr', 'nervesyr', 'canceryr']\n",
    "\n",
    "pers.drop(not_all_communities, axis=1, inplace=True)"
   ]
  },
  {
   "cell_type": "markdown",
   "metadata": {},
   "source": [
    "Eliminación de atributos correspondientes a experiencia migratoria para prevenir \"data leakage\" y creación de dataframes para hombres y mujeres"
   ]
  },
  {
   "cell_type": "code",
   "execution_count": 13,
   "metadata": {},
   "outputs": [],
   "source": [
    "first_last_us_migration_atts = ['usyr1', 'usdur1', 'usdoc1', 'usstate1', 'usplace1', 'usmar1', 'usocc1', 'uswage1', 'usby1',\n",
    "                                 'usyrl', 'usdurl', 'usdocl', 'usstatel', 'usplacel', 'usmarl', 'usoccl', 'uswagel', 'usbyl',\n",
    "                                 'uscurtrp', 'ustrips', 'usexp', 'legyrapp', 'legyrrec', 'legspon', 'cityrapp', 'cityrrec',\n",
    "                                 'dacaapp', 'dacarec', 'ushealth', 'mxhealth']\n",
    "\n",
    "pers.drop(first_last_us_migration_atts, axis=1, inplace=True)\n"
   ]
  },
  {
   "cell_type": "markdown",
   "metadata": {},
   "source": [
    "Creación de dataframes para hombres y mujeres"
   ]
  },
  {
   "cell_type": "code",
   "execution_count": 14,
   "metadata": {},
   "outputs": [],
   "source": [
    "pers_women = pers[pers['sex']=='2'].copy() #Seleccionamos a las mujeres\n",
    "pers_men = pers[pers['sex']=='1'].copy() #Seleccionamos a los hombres\n",
    "\n",
    "pers_women.drop('sex',axis=1, inplace=True)\n",
    "pers_men.drop('sex',axis=1, inplace=True)"
   ]
  },
  {
   "cell_type": "markdown",
   "metadata": {},
   "source": [
    "Tamaño de cada dataset:"
   ]
  },
  {
   "cell_type": "code",
   "execution_count": 15,
   "metadata": {},
   "outputs": [
    {
     "name": "stdout",
     "output_type": "stream",
     "text": [
      "General - Número de instancias: 175874, número de atributos: 13\n",
      "Hombres - Número de instancias: 89120, número de atributos: 12\n",
      "Mujeres - Número de instancias: 86750, número de atributos: 12\n"
     ]
    }
   ],
   "source": [
    "print(f'General - Número de instancias: {pers.shape[0]}, número de atributos: {pers.shape[1]}')\n",
    "print(f'Hombres - Número de instancias: {pers_women.shape[0]}, número de atributos: {pers_women.shape[1]}')\n",
    "print(f'Mujeres - Número de instancias: {pers_men.shape[0]}, número de atributos: {pers_men.shape[1]}')"
   ]
  },
  {
   "cell_type": "markdown",
   "metadata": {},
   "source": [
    "Almacenamiento de datasets:"
   ]
  },
  {
   "cell_type": "code",
   "execution_count": 16,
   "metadata": {},
   "outputs": [],
   "source": [
    "#Valida si la ruta para almacenar los datasets existe, si no la crea\n",
    "os.makedirs(path_to_store, exist_ok=True)\n",
    "pers.to_csv(os.path.join(path_to_store, 'pers.csv'), index=False)\n",
    "pers_women.to_csv(os.path.join(path_to_store, 'pers_women.csv'), index=False)\n",
    "pers_men.to_csv(os.path.join(path_to_store, 'pers_men.csv'), index=False)"
   ]
  },
  {
   "cell_type": "code",
   "execution_count": 17,
   "metadata": {},
   "outputs": [
    {
     "data": {
      "text/plain": [
       "['commun',\n",
       " 'sex',\n",
       " 'relhead',\n",
       " 'yrborn',\n",
       " 'statebrn',\n",
       " 'placebrn',\n",
       " 'marstat',\n",
       " 'occ',\n",
       " '@by']"
      ]
     },
     "execution_count": 17,
     "metadata": {},
     "output_type": "execute_result"
    }
   ],
   "source": [
    "j = [a for a in pers.columns if a in categorical_atts]\n",
    "j\n"
   ]
  },
  {
   "cell_type": "code",
   "execution_count": 18,
   "metadata": {},
   "outputs": [
    {
     "data": {
      "text/plain": [
       "Index(['commun', 'sex', 'relhead', 'yrborn', 'age', 'statebrn', 'placebrn',\n",
       "       'marstat', 'edyrs', 'occ', 'ldowage', '@by', 'target'],\n",
       "      dtype='object')"
      ]
     },
     "execution_count": 18,
     "metadata": {},
     "output_type": "execute_result"
    }
   ],
   "source": [
    "pers.columns"
   ]
  },
  {
   "cell_type": "code",
   "execution_count": 4,
   "metadata": {},
   "outputs": [
    {
     "name": "stdout",
     "output_type": "stream",
     "text": [
      "| Classifier    |   Accuracy |   Balanced_accuracy |   Recall |   Specificity |      AUC |      MCC |   Precision |   F1-score |\n",
      "|:--------------|-----------:|--------------------:|---------:|--------------:|---------:|---------:|------------:|-----------:|\n",
      "| GBM           |   0.868145 |            0.710357 | 0.480734 |     0.939979  | 0.710357 | 0.460793 |    0.597605 |   0.532836 |\n",
      "| Decision Tree |   0.830163 |            0.674298 | 0.447474 |     0.901122  | 0.674298 | 0.351376 |    0.456264 |   0.451826 |\n",
      "| 1-NN          |   0.799716 |            0.68142  | 0.509269 |     0.853571  | 0.68142  | 0.327566 |    0.392053 |   0.443039 |\n",
      "| Random Forest |   0.794456 |            0.763654 | 0.71883  |     0.808479  | 0.763654 | 0.429465 |    0.410355 |   0.522457 |\n",
      "| MLP           |   0.743966 |            0.736615 | 0.725918 |     0.747312  | 0.736615 | 0.36652  |    0.347546 |   0.470048 |\n",
      "| Naïve Bayes   |   0.164861 |            0.504931 | 0.999818 |     0.0100428 | 0.504931 | 0.039018 |    0.15773  |   0.272475 |\n"
     ]
    }
   ],
   "source": [
    "import sys\n",
    "import os\n",
    "import pandas as pd\n",
    "import numpy as np\n",
    "import matplotlib.pyplot as plt\n",
    "from tabulate import tabulate\n",
    "\n",
    "sys.path.append(os.path.abspath(os.path.join('..'))) #Utils path\n",
    "from tesis_experiments_utils import classifiers_utils as cu\n",
    "from tesis_experiments_utils import confusion_matrices_utils as cmu\n",
    "from tesis_experiments_utils import data_utils as du\n",
    "from tesis_experiments_utils import files_utils as fu\n",
    "from tesis_experiments_utils import learning_curves_utils as lcu\n",
    "\n",
    "resultados = pd.DataFrame(pd.read_csv(os.path.join(fu.results_path,'resultados.csv')))\n",
    "resultados.sort_values(by='Accuracy', ascending=False, inplace=True)\n",
    "markdown_table = resultados.to_markdown(index=False)\n",
    "# Imprimir la tabla Markdown\n",
    "print(markdown_table)"
   ]
  },
  {
   "cell_type": "code",
   "execution_count": 5,
   "metadata": {},
   "outputs": [
    {
     "data": {
      "image/png": "[encoded data removed]",
      "text/plain": [
       "<Figure size 350x262.5 with 1 Axes>"
      ]
     },
     "metadata": {},
     "output_type": "display_data"
    }
   ],
   "source": [
    "cu.plot_scores(resultados,['F1-score','Accuracy'], ['F1-score','Accuracy'], 'Accuracy', 'Comparación de modelos')"
   ]
  },
  {
   "cell_type": "code",
   "execution_count": null,
   "metadata": {},
   "outputs": [],
   "source": []
  }
 ],
 "metadata": {
  "kernelspec": {
   "display_name": "migration",
   "language": "python",
   "name": "python3"
  },
  "language_info": {
   "codemirror_mode": {
    "name": "ipython",
    "version": 3
   },
   "file_extension": ".py",
   "mimetype": "text/x-python",
   "name": "python",
   "nbconvert_exporter": "python",
   "pygments_lexer": "ipython3",
   "version": "3.12.3"
  }
 },
 "nbformat": 4,
 "nbformat_minor": 2
}
